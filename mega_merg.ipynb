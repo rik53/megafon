{
 "cells": [
  {
   "cell_type": "code",
   "execution_count": 357,
   "id": "598634b8",
   "metadata": {
    "cellId": "ps9la2wlwt9125inf7wls"
   },
   "outputs": [],
   "source": [
    "import numpy as np\n",
    "import pandas as pd"
   ]
  },
  {
   "cell_type": "code",
   "execution_count": 360,
   "id": "c35b0467",
   "metadata": {
    "cellId": "kse6i7js9pdsv2mombd4i"
   },
   "outputs": [],
   "source": [
    "DATASET_PATH_TEST = 'data_test.csv'\n",
    "DATASET_PATH_TRAIN = 'data_train.csv'\n",
    "DATASET_PATH_FEAT= 'features.csv'"
   ]
  },
  {
   "cell_type": "code",
   "execution_count": 358,
   "id": "bca9ae47",
   "metadata": {
    "cellId": "ys086kaj38i4tefq2te88n"
   },
   "outputs": [],
   "source": [
    "#!c1.8\n",
    "train = pd.read_csv(DATASET_PATH_TRAIN, sep=',')\n",
    "test = pd.read_csv(DATASET_PATH_TEST, sep=',')"
   ]
  },
  {
   "cell_type": "code",
   "execution_count": 359,
   "id": "d4d806fe",
   "metadata": {
    "cellId": "y2telon1g0j7n9tsb2re78"
   },
   "outputs": [],
   "source": [
    "#!c1.8\n",
    "feats = pd.read_csv(DATASET_PATH_FEAT, sep='\\t')"
   ]
  },
  {
   "cell_type": "code",
   "execution_count": 362,
   "id": "88dc9819",
   "metadata": {
    "cellId": "t49r2cmwqp1er65y77b6k"
   },
   "outputs": [],
   "source": [
    "#!c1.8\n",
    "train.sort_values(by=\"buy_time\", inplace=True)"
   ]
  },
  {
   "cell_type": "code",
   "execution_count": 367,
   "id": "18b05b69",
   "metadata": {
    "cellId": "p7ip0hiad1imvuvkr0meig"
   },
   "outputs": [],
   "source": [
    "#!c1.8\n",
    "test.sort_values(by=\"buy_time\", inplace=True)"
   ]
  },
  {
   "cell_type": "code",
   "execution_count": 363,
   "id": "5b49a64f",
   "metadata": {
    "cellId": "2qz7yugtcr42j32jsr3w6k"
   },
   "outputs": [],
   "source": [
    "#!c1.8\n",
    "feats.sort_values(by=\"buy_time\", inplace=True)"
   ]
  },
  {
   "cell_type": "code",
   "execution_count": 365,
   "id": "e2b20a29",
   "metadata": {
    "cellId": "lot414v5wijyx3qi6yg1ep"
   },
   "outputs": [],
   "source": [
    "#!c1.8\n",
    "train_merg=pd.merge_asof(train, feats, on='buy_time', by='id', direction='nearest')"
   ]
  },
  {
   "cell_type": "code",
   "execution_count": 368,
   "id": "27b88c84",
   "metadata": {
    "cellId": "1buhlfkmktf3d99dzq4ecq"
   },
   "outputs": [],
   "source": [
    "#!c1.8\n",
    "test_merg=pd.merge_asof(test, feats, on='buy_time', by='id', direction='nearest')"
   ]
  },
  {
   "cell_type": "code",
   "execution_count": 369,
   "id": "6edefb87",
   "metadata": {
    "cellId": "wfu1spkssiqcyhzcxjh6bt"
   },
   "outputs": [],
   "source": [
    "#!c1.8\n",
    "test_merg.to_csv(\"test_merg.csv\", sep=\",\", index=False)"
   ]
  }
 ],
 "metadata": {
  "kernelspec": {
   "display_name": "Yandex DataSphere Kernel",
   "language": "python",
   "name": "python3"
  },
  "language_info": {
   "codemirror_mode": {
    "name": "ipython",
    "version": 3
   },
   "file_extension": ".py",
   "mimetype": "text/x-python",
   "name": "python",
   "nbconvert_exporter": "python",
   "pygments_lexer": "ipython3",
   "version": "3.7.7"
  },
  "notebookId": "30f74fd6-c737-4549-8b44-0286515049ff",
  "notebookPath": "mega_2.ipynb"
 },
 "nbformat": 4,
 "nbformat_minor": 5
}
