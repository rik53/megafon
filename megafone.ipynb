{
 "cells": [
  {
   "cell_type": "code",
   "execution_count": 245,
   "id": "5e1c5409",
   "metadata": {
    "cellId": "e88uqv23fjphu5v15s6t4j"
   },
   "outputs": [],
   "source": [
    "import pandas as pd\n",
    "import numpy as np\n",
    "import xgboost as xgb\n",
    "import lightgbm as lgb\n",
    "import catboost as cb\n",
    "from sklearn.metrics import f1_score, precision_recall_curve\n",
    "from sklearn.model_selection import train_test_split, cross_val_score, GroupKFold\n",
    "import time\n",
    "import pickle\n",
    "from datetime import date as dt\n",
    "import warnings\n",
    "warnings.filterwarnings('ignore')\n",
    "from sklearn.model_selection import KFold, GridSearchCV, RandomizedSearchCV\n",
    "from eli5.sklearn import PermutationImportance\n",
    "from eli5 import show_weights"
   ]
  },
  {
   "cell_type": "code",
   "execution_count": 237,
   "id": "525d8872",
   "metadata": {
    "cellId": "cuz3i7bjqqdag9z6dmaj9u"
   },
   "outputs": [],
   "source": [
    "DATASET_PATH_TRAIN = './data_train.csv'\n",
    "train = pd.read_csv(DATASET_PATH_TRAIN, sep=',')\n",
    "train['vas_id'] = train['vas_id'].astype('int8')\n",
    "train['target'] = train['target'].astype('int8')\n",
    "train['vas_id'] = train['vas_id'].astype('object')\n",
    "train['buy_time']=train['buy_time'].map(lambda x: dt.fromtimestamp(x))\n",
    "train['buy_time'] = pd.to_datetime(train['buy_time']) \n",
    "y = train['target']\n",
    "X = train.drop(['Unnamed: 0', 'target'],axis=1)\n",
    "categorical = train.dtypes[train.dtypes == \"object\"].index.tolist()\n",
    "def catboost_cross_validation(params, X, y, cv, categorical= None):\n",
    "    estimators= []\n",
    "    for fold, (train_idx, valid_idx) in enumerate(cv.split(X, y, groups = X[\"id\"])):\n",
    "        x_train, x_valid = X.loc[train_idx], X.loc[valid_idx]\n",
    "        y_train, y_valid = y.loc[train_idx], y.loc[valid_idx]\n",
    "        model = cb.CatBoostClassifier(**params)\n",
    "        model.fit(\n",
    "             x_train, y_train, categorical,\n",
    "             eval_set=[(x_train, y_train), (x_valid, y_valid)]               \n",
    "            )\n",
    "        estimators.append(model)\n",
    "    return estimators\n",
    "scale = int(y[y == 0].shape[0] / y[y == 1].shape[0])\n",
    "    \n",
    "cb_params = {'silent': True, \n",
    "            'scale_pos_weight': scale,\n",
    "            \n",
    "    }\n",
    "cv = GroupKFold(n_splits=3)\n",
    "estimators = catboost_cross_validation(\n",
    "params=cb_params, X=X, y=y, cv=cv, categorical=categorical)"
   ]
  },
  {
   "cell_type": "code",
   "execution_count": 238,
   "id": "7598198d",
   "metadata": {
    "cellId": "xwjiysa5asm07o3z1pbs"
   },
   "outputs": [],
   "source": [
    "def catmodel():\n",
    "    DATASET_PATH_TEST = './data_test.csv'    \n",
    "    test = pd.read_csv(DATASET_PATH_TEST, sep=',')    \n",
    "    test['vas_id'] = test['vas_id'].astype('int8')\n",
    "    test['vas_id'] = test['vas_id'].astype('object')\n",
    "    test['buy_time']=test['buy_time'].map(lambda x: dt.fromtimestamp(x))\n",
    "    test['buy_time'] = pd.to_datetime(test['buy_time'])\n",
    "    test=test.drop(['Unnamed: 0'],axis=1)\n",
    "    categorical = test.dtypes[train.dtypes == \"object\"].index.tolist()\n",
    "    y_pred=np.zeros(test.shape[0])\n",
    "    for estimator in estimators:\n",
    "        y_pred += estimator.predict_proba(test)[:, 1]\n",
    "    prediction = y_pred/len(estimators)\n",
    "    prediction = pd.Series(prediction)\n",
    "    prediction =np.where(prediction>0.85, 1, 0)\n",
    "    test['target'] = prediction\n",
    "    test.to_csv('./answers_test.csv', sep=\",\", index=False)"
   ]
  },
  {
   "cell_type": "code",
   "execution_count": null,
   "id": "b8e15313",
   "metadata": {
    "cellId": "h96lx5i5cz6yvbhk7dldtj"
   },
   "outputs": [],
   "source": [
    "catmodel()"
   ]
  },
  {
   "cell_type": "code",
   "execution_count": 247,
   "id": "e0c1f48d",
   "metadata": {
    "cellId": "k8bvxhs0m7br69a413746"
   },
   "outputs": [],
   "source": [
    "with open(\"model.pkl\", \"wb\") as f:\n",
    "    pickle.dump(catmodel, f)"
   ]
  }
 ],
 "metadata": {
  "kernelspec": {
   "display_name": "Yandex DataSphere Kernel",
   "language": "python",
   "name": "python3"
  },
  "language_info": {
   "codemirror_mode": {
    "name": "ipython",
    "version": 3
   },
   "file_extension": ".py",
   "mimetype": "text/x-python",
   "name": "python",
   "nbconvert_exporter": "python",
   "pygments_lexer": "ipython3",
   "version": "3.7.7"
  },
  "notebookId": "532615a8-69cf-421b-990d-7c6cf82e7061",
  "notebookPath": "megafone.ipynb"
 },
 "nbformat": 4,
 "nbformat_minor": 5
}
